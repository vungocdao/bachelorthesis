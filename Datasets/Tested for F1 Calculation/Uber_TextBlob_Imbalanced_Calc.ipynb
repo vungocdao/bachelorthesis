{
 "cells": [
  {
   "cell_type": "code",
   "execution_count": 54,
   "metadata": {},
   "outputs": [],
   "source": [
    "from sklearn.metrics import precision_score\n",
    "from sklearn.metrics import recall_score\n",
    "from sklearn.metrics import f1_score"
   ]
  },
  {
   "cell_type": "code",
   "execution_count": 55,
   "metadata": {},
   "outputs": [],
   "source": [
    "# Calculation for 1-Class"
   ]
  },
  {
   "cell_type": "code",
   "execution_count": 56,
   "metadata": {},
   "outputs": [],
   "source": [
    "# define actual\n",
    "act_pos = [1 for _ in range(167)]\n",
    "act_neg = [0 for _ in range(769)]\n",
    "y_true = act_pos + act_neg"
   ]
  },
  {
   "cell_type": "code",
   "execution_count": 57,
   "metadata": {},
   "outputs": [],
   "source": [
    "# define predictions\n",
    "pred_pos = [0 for _ in range(149)] + [1 for _ in range(18)]\n",
    "pred_neg = [1 for _ in range (7)] + [0 for _ in range(762)]\n",
    "y_pred = pred_pos + pred_neg"
   ]
  },
  {
   "cell_type": "code",
   "execution_count": 58,
   "metadata": {},
   "outputs": [
    {
     "name": "stdout",
     "output_type": "stream",
     "text": [
      "Precision: 0.720\n"
     ]
    }
   ],
   "source": [
    "# calculate precision\n",
    "precision = precision_score(y_true, y_pred, average ='binary')\n",
    "print('Precision: %.3f' % precision)"
   ]
  },
  {
   "cell_type": "code",
   "execution_count": null,
   "metadata": {},
   "outputs": [],
   "source": []
  },
  {
   "cell_type": "code",
   "execution_count": 59,
   "metadata": {},
   "outputs": [],
   "source": [
    "# define actual\n",
    "act_pos = [1 for _ in range(167)]\n",
    "act_neg = [0 for _ in range(769)]\n",
    "y_true = act_pos + act_neg"
   ]
  },
  {
   "cell_type": "code",
   "execution_count": 60,
   "metadata": {},
   "outputs": [],
   "source": [
    "# define predictions\n",
    "pred_pos = [0 for _ in range(149)] + [1 for _ in range(18)]\n",
    "pred_neg = [0 for _ in range(769)]\n",
    "y_pred = pred_pos + pred_neg"
   ]
  },
  {
   "cell_type": "code",
   "execution_count": 61,
   "metadata": {},
   "outputs": [
    {
     "name": "stdout",
     "output_type": "stream",
     "text": [
      "Recall: 0.108\n"
     ]
    }
   ],
   "source": [
    "# calculate recall\n",
    "recall = recall_score(y_true, y_pred, average='binary')\n",
    "print('Recall: %.3f' % recall)"
   ]
  },
  {
   "cell_type": "code",
   "execution_count": null,
   "metadata": {},
   "outputs": [],
   "source": []
  },
  {
   "cell_type": "code",
   "execution_count": 62,
   "metadata": {},
   "outputs": [],
   "source": [
    "# define actual\n",
    "act_pos = [1 for _ in range(167)]\n",
    "act_neg = [0 for _ in range(769)]\n",
    "y_true = act_pos + act_neg"
   ]
  },
  {
   "cell_type": "code",
   "execution_count": 63,
   "metadata": {},
   "outputs": [],
   "source": [
    "# define predictions\n",
    "pred_pos = [0 for _ in range(149)] + [1 for _ in range(18)]\n",
    "pred_neg = [1 for _ in range(7)] + [0 for _ in range(762)]\n",
    "y_pred = pred_pos + pred_neg"
   ]
  },
  {
   "cell_type": "code",
   "execution_count": 64,
   "metadata": {},
   "outputs": [
    {
     "name": "stdout",
     "output_type": "stream",
     "text": [
      "F-Measure: 0.188\n"
     ]
    }
   ],
   "source": [
    "# calculate f1_score\n",
    "score = f1_score(y_true, y_pred, average='binary')\n",
    "print('F-Measure: %.3f' % score)"
   ]
  },
  {
   "cell_type": "code",
   "execution_count": 65,
   "metadata": {},
   "outputs": [],
   "source": [
    "# Calculation for -1-Class"
   ]
  },
  {
   "cell_type": "code",
   "execution_count": 66,
   "metadata": {},
   "outputs": [],
   "source": [
    "# define actual\n",
    "act_pos = [1 for _ in range(769)]\n",
    "act_neg = [0 for _ in range(167)]\n",
    "y_true = act_pos + act_neg"
   ]
  },
  {
   "cell_type": "code",
   "execution_count": 67,
   "metadata": {},
   "outputs": [],
   "source": [
    "# define predictions\n",
    "pred_pos = [0 for _ in range(747)] + [1 for _ in range(22)]\n",
    "pred_neg = [1 for _ in range (1)] + [0 for _ in range(166)]\n",
    "y_pred = pred_pos + pred_neg"
   ]
  },
  {
   "cell_type": "code",
   "execution_count": 68,
   "metadata": {},
   "outputs": [
    {
     "name": "stdout",
     "output_type": "stream",
     "text": [
      "Precision: 0.957\n"
     ]
    }
   ],
   "source": [
    "# calculate precision\n",
    "precision = precision_score(y_true, y_pred, average ='binary')\n",
    "print('Precision: %.3f' % precision)"
   ]
  },
  {
   "cell_type": "code",
   "execution_count": null,
   "metadata": {},
   "outputs": [],
   "source": []
  },
  {
   "cell_type": "code",
   "execution_count": 69,
   "metadata": {},
   "outputs": [],
   "source": [
    "# define actual\n",
    "act_pos = [1 for _ in range(769)]\n",
    "act_neg = [0 for _ in range(167)]\n",
    "y_true = act_pos + act_neg"
   ]
  },
  {
   "cell_type": "code",
   "execution_count": 70,
   "metadata": {},
   "outputs": [],
   "source": [
    "# define predictions\n",
    "pred_pos = [0 for _ in range(747)] + [1 for _ in range(22)]\n",
    "pred_neg = [0 for _ in range(167)]\n",
    "y_pred = pred_pos + pred_neg"
   ]
  },
  {
   "cell_type": "code",
   "execution_count": 71,
   "metadata": {},
   "outputs": [
    {
     "name": "stdout",
     "output_type": "stream",
     "text": [
      "Recall: 0.029\n"
     ]
    }
   ],
   "source": [
    "# calculate recall\n",
    "recall = recall_score(y_true, y_pred, average='binary')\n",
    "print('Recall: %.3f' % recall)"
   ]
  },
  {
   "cell_type": "code",
   "execution_count": null,
   "metadata": {},
   "outputs": [],
   "source": []
  },
  {
   "cell_type": "code",
   "execution_count": 72,
   "metadata": {},
   "outputs": [],
   "source": [
    "# define actual\n",
    "act_pos = [1 for _ in range(769)]\n",
    "act_neg = [0 for _ in range(167)]\n",
    "y_true = act_pos + act_neg"
   ]
  },
  {
   "cell_type": "code",
   "execution_count": 73,
   "metadata": {},
   "outputs": [],
   "source": [
    "# define predictions\n",
    "pred_pos = [0 for _ in range(747)] + [1 for _ in range(22)]\n",
    "pred_neg = [1 for _ in range (1)] + [0 for _ in range(166)]\n",
    "y_pred = pred_pos + pred_neg"
   ]
  },
  {
   "cell_type": "code",
   "execution_count": 74,
   "metadata": {},
   "outputs": [
    {
     "name": "stdout",
     "output_type": "stream",
     "text": [
      "F-Measure: 0.056\n"
     ]
    }
   ],
   "source": [
    "# calculate f1_score\n",
    "score = f1_score(y_true, y_pred, average='binary')\n",
    "print('F-Measure: %.3f' % score)"
   ]
  },
  {
   "cell_type": "code",
   "execution_count": null,
   "metadata": {},
   "outputs": [],
   "source": []
  }
 ],
 "metadata": {
  "kernelspec": {
   "display_name": "Python 3",
   "language": "python",
   "name": "python3"
  },
  "language_info": {
   "codemirror_mode": {
    "name": "ipython",
    "version": 3
   },
   "file_extension": ".py",
   "mimetype": "text/x-python",
   "name": "python",
   "nbconvert_exporter": "python",
   "pygments_lexer": "ipython3",
   "version": "3.7.4"
  }
 },
 "nbformat": 4,
 "nbformat_minor": 2
}
