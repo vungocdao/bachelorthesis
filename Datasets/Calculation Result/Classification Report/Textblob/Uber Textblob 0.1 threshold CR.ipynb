{
 "cells": [
  {
   "cell_type": "code",
   "execution_count": 1,
   "metadata": {},
   "outputs": [],
   "source": [
    "# returns Classification report for Uber; TextBlob\n",
    "from sklearn.metrics import classification_report\n",
    "import pandas as pd"
   ]
  },
  {
   "cell_type": "code",
   "execution_count": 2,
   "metadata": {},
   "outputs": [],
   "source": [
    "df = pd.read_excel('Calc_Uber_with_skip_0.1.xlsx', sheet_name='Sheet1')\n",
    "mylist = df ['Polarity'].tolist()\n",
    "mylist2 = df['Polarity_rounded'].tolist()"
   ]
  },
  {
   "cell_type": "code",
   "execution_count": 3,
   "metadata": {},
   "outputs": [
    {
     "name": "stdout",
     "output_type": "stream",
     "text": [
      "                precision    recall  f1-score   support\n",
      "\n",
      "Negative Class       0.96      0.27      0.43       769\n",
      " Neutral Class       0.00      0.00      0.00         0\n",
      "Positive Class       0.38      0.71      0.49       167\n",
      "\n",
      "      accuracy                           0.35       936\n",
      "     macro avg       0.45      0.33      0.31       936\n",
      "  weighted avg       0.86      0.35      0.44       936\n",
      "\n"
     ]
    },
    {
     "name": "stderr",
     "output_type": "stream",
     "text": [
      "D:\\Anaconda3\\lib\\site-packages\\sklearn\\metrics\\classification.py:1439: UndefinedMetricWarning: Recall and F-score are ill-defined and being set to 0.0 in labels with no true samples.\n",
      "  'recall', 'true', average, warn_for)\n"
     ]
    }
   ],
   "source": [
    "y_true = mylist\n",
    "y_pred = mylist2\n",
    "target_names = ['Negative Class', 'Neutral Class', 'Positive Class']\n",
    "print(classification_report(y_true, y_pred, target_names=target_names))"
   ]
  },
  {
   "cell_type": "code",
   "execution_count": null,
   "metadata": {},
   "outputs": [],
   "source": []
  }
 ],
 "metadata": {
  "kernelspec": {
   "display_name": "Python 3",
   "language": "python",
   "name": "python3"
  },
  "language_info": {
   "codemirror_mode": {
    "name": "ipython",
    "version": 3
   },
   "file_extension": ".py",
   "mimetype": "text/x-python",
   "name": "python",
   "nbconvert_exporter": "python",
   "pygments_lexer": "ipython3",
   "version": "3.7.4"
  }
 },
 "nbformat": 4,
 "nbformat_minor": 2
}
