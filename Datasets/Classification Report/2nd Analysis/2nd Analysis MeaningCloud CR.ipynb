{
 "cells": [
  {
   "cell_type": "code",
   "execution_count": 10,
   "metadata": {},
   "outputs": [],
   "source": [
    "# returns Classification report for Negation Dataset; MeaningCloud\n",
    "from sklearn.metrics import classification_report\n",
    "import pandas as pd"
   ]
  },
  {
   "cell_type": "code",
   "execution_count": 11,
   "metadata": {},
   "outputs": [],
   "source": [
    "df = pd.read_excel('Negation_Dataset_MeaningCloud.xlsx')\n",
    "mylist = df ['Polarity'].tolist()\n",
    "mylist2 = df['Polarity_Result'].tolist()"
   ]
  },
  {
   "cell_type": "code",
   "execution_count": 12,
   "metadata": {
    "scrolled": true
   },
   "outputs": [
    {
     "name": "stdout",
     "output_type": "stream",
     "text": [
      "                precision    recall  f1-score   support\n",
      "\n",
      "Negative Class       0.79      0.53      0.64       101\n",
      " Neutral Class       0.00      0.00      0.00         0\n",
      "Positive Class       0.54      0.46      0.50        41\n",
      "\n",
      "      accuracy                           0.51       142\n",
      "     macro avg       0.45      0.33      0.38       142\n",
      "  weighted avg       0.72      0.51      0.60       142\n",
      "\n"
     ]
    }
   ],
   "source": [
    "y_true = mylist\n",
    "y_pred = mylist2\n",
    "target_names = ['Negative Class', 'Neutral Class', 'Positive Class']\n",
    "print(classification_report(y_true, y_pred, target_names=target_names))"
   ]
  },
  {
   "cell_type": "code",
   "execution_count": 13,
   "metadata": {},
   "outputs": [],
   "source": [
    "# returns Classification report for Bias Dataset; MeaningCloud"
   ]
  },
  {
   "cell_type": "code",
   "execution_count": 14,
   "metadata": {},
   "outputs": [],
   "source": [
    "df = pd.read_excel('Bias_Dataset_MeaningCloud.xlsx')\n",
    "mylist = df ['Polarity'].tolist()\n",
    "mylist2 = df['Polarity_Result'].tolist()"
   ]
  },
  {
   "cell_type": "code",
   "execution_count": 15,
   "metadata": {
    "scrolled": true
   },
   "outputs": [
    {
     "name": "stdout",
     "output_type": "stream",
     "text": [
      "                precision    recall  f1-score   support\n",
      "\n",
      "Negative Class       0.88      0.65      0.75        23\n",
      " Neutral Class       0.00      0.00      0.00         0\n",
      "Positive Class       0.95      0.82      0.88        44\n",
      "\n",
      "      accuracy                           0.76        67\n",
      "     macro avg       0.61      0.49      0.54        67\n",
      "  weighted avg       0.93      0.76      0.83        67\n",
      "\n"
     ]
    }
   ],
   "source": [
    "y_true = mylist\n",
    "y_pred = mylist2\n",
    "target_names = ['Negative Class', 'Neutral Class', 'Positive Class']\n",
    "print(classification_report(y_true, y_pred, target_names=target_names))"
   ]
  },
  {
   "cell_type": "code",
   "execution_count": null,
   "metadata": {},
   "outputs": [],
   "source": []
  }
 ],
 "metadata": {
  "kernelspec": {
   "display_name": "Python 3",
   "language": "python",
   "name": "python3"
  },
  "language_info": {
   "codemirror_mode": {
    "name": "ipython",
    "version": 3
   },
   "file_extension": ".py",
   "mimetype": "text/x-python",
   "name": "python",
   "nbconvert_exporter": "python",
   "pygments_lexer": "ipython3",
   "version": "3.7.4"
  }
 },
 "nbformat": 4,
 "nbformat_minor": 2
}
