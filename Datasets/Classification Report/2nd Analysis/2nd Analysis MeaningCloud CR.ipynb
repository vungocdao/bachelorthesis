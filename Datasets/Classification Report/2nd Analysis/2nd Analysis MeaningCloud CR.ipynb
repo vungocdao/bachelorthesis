{
 "cells": [
  {
   "cell_type": "code",
   "execution_count": 1,
   "metadata": {},
   "outputs": [],
   "source": [
    "# returns Classification report for Negation Dataset; MeaningCloud\n",
    "from sklearn.metrics import classification_report\n",
    "import pandas as pd"
   ]
  },
  {
   "cell_type": "code",
   "execution_count": 2,
   "metadata": {},
   "outputs": [],
   "source": [
    "df = pd.read_excel('Negation_Dataset_MeaningCloud.xlsx')\n",
    "mylist = df ['Polarity'].tolist()\n",
    "mylist2 = df['Polarity_Result'].tolist()"
   ]
  },
  {
   "cell_type": "code",
   "execution_count": 3,
   "metadata": {
    "scrolled": true
   },
   "outputs": [
    {
     "name": "stdout",
     "output_type": "stream",
     "text": [
      "                precision    recall  f1-score   support\n",
      "\n",
      "Negative Class       0.80      0.53      0.64        96\n",
      " Neutral Class       0.00      0.00      0.00         0\n",
      "Positive Class       0.53      0.46      0.49        39\n",
      "\n",
      "      accuracy                           0.51       135\n",
      "     macro avg       0.44      0.33      0.38       135\n",
      "  weighted avg       0.72      0.51      0.60       135\n",
      "\n"
     ]
    },
    {
     "name": "stderr",
     "output_type": "stream",
     "text": [
      "D:\\Anaconda3\\lib\\site-packages\\sklearn\\metrics\\classification.py:1439: UndefinedMetricWarning: Recall and F-score are ill-defined and being set to 0.0 in labels with no true samples.\n",
      "  'recall', 'true', average, warn_for)\n"
     ]
    }
   ],
   "source": [
    "y_true = mylist\n",
    "y_pred = mylist2\n",
    "target_names = ['Negative Class', 'Neutral Class', 'Positive Class']\n",
    "print(classification_report(y_true, y_pred, target_names=target_names))"
   ]
  },
  {
   "cell_type": "code",
   "execution_count": 4,
   "metadata": {},
   "outputs": [],
   "source": [
    "# returns Classification report for Bias Dataset; MeaningCloud"
   ]
  },
  {
   "cell_type": "code",
   "execution_count": 5,
   "metadata": {},
   "outputs": [],
   "source": [
    "df = pd.read_excel('Bias_Dataset_MeaningCloud.xlsx')\n",
    "mylist = df ['Polarity'].tolist()\n",
    "mylist2 = df['Polarity_Result'].tolist()"
   ]
  },
  {
   "cell_type": "code",
   "execution_count": 6,
   "metadata": {
    "scrolled": true
   },
   "outputs": [
    {
     "name": "stdout",
     "output_type": "stream",
     "text": [
      "                precision    recall  f1-score   support\n",
      "\n",
      "Negative Class       0.89      0.59      0.71        56\n",
      " Neutral Class       0.00      0.00      0.00         0\n",
      "Positive Class       0.94      0.83      0.88        92\n",
      "\n",
      "      accuracy                           0.74       148\n",
      "     macro avg       0.61      0.47      0.53       148\n",
      "  weighted avg       0.92      0.74      0.81       148\n",
      "\n"
     ]
    }
   ],
   "source": [
    "y_true = mylist\n",
    "y_pred = mylist2\n",
    "target_names = ['Negative Class', 'Neutral Class', 'Positive Class']\n",
    "print(classification_report(y_true, y_pred, target_names=target_names))"
   ]
  },
  {
   "cell_type": "code",
   "execution_count": 7,
   "metadata": {},
   "outputs": [],
   "source": [
    "# returns Classification report for Ambiguity Dataset; MeaningCloud"
   ]
  },
  {
   "cell_type": "code",
   "execution_count": 2,
   "metadata": {},
   "outputs": [],
   "source": [
    "df = pd.read_excel('Ambiguity_Dataset_MeaningCloud.xlsx')\n",
    "mylist = df ['Polarity'].tolist()\n",
    "mylist2 = df['Polarity_Result'].tolist()"
   ]
  },
  {
   "cell_type": "code",
   "execution_count": 3,
   "metadata": {},
   "outputs": [
    {
     "name": "stdout",
     "output_type": "stream",
     "text": [
      "                precision    recall  f1-score   support\n",
      "\n",
      "Negative Class       0.86      0.46      0.60        13\n",
      " Neutral Class       0.00      0.00      0.00         0\n",
      "Positive Class       0.57      0.67      0.62         6\n",
      "\n",
      "      accuracy                           0.53        19\n",
      "     macro avg       0.48      0.38      0.41        19\n",
      "  weighted avg       0.77      0.53      0.60        19\n",
      "\n"
     ]
    },
    {
     "name": "stderr",
     "output_type": "stream",
     "text": [
      "D:\\Anaconda3\\lib\\site-packages\\sklearn\\metrics\\classification.py:1439: UndefinedMetricWarning: Recall and F-score are ill-defined and being set to 0.0 in labels with no true samples.\n",
      "  'recall', 'true', average, warn_for)\n"
     ]
    }
   ],
   "source": [
    "y_true = mylist\n",
    "y_pred = mylist2\n",
    "target_names = ['Negative Class', 'Neutral Class', 'Positive Class']\n",
    "print(classification_report(y_true, y_pred, target_names=target_names))"
   ]
  },
  {
   "cell_type": "code",
   "execution_count": null,
   "metadata": {},
   "outputs": [],
   "source": []
  }
 ],
 "metadata": {
  "kernelspec": {
   "display_name": "Python 3",
   "language": "python",
   "name": "python3"
  },
  "language_info": {
   "codemirror_mode": {
    "name": "ipython",
    "version": 3
   },
   "file_extension": ".py",
   "mimetype": "text/x-python",
   "name": "python",
   "nbconvert_exporter": "python",
   "pygments_lexer": "ipython3",
   "version": "3.7.4"
  }
 },
 "nbformat": 4,
 "nbformat_minor": 2
}
