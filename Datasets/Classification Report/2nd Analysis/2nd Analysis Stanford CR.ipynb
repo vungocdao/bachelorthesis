{
 "cells": [
  {
   "cell_type": "code",
   "execution_count": 3,
   "metadata": {},
   "outputs": [],
   "source": [
    "# returns Classification report for Negation Dataset; Stanford\n",
    "from sklearn.metrics import classification_report\n",
    "import pandas as pd"
   ]
  },
  {
   "cell_type": "code",
   "execution_count": 4,
   "metadata": {},
   "outputs": [],
   "source": [
    "df = pd.read_excel('Negation_Dataset_Stanford.xlsx')\n",
    "mylist = df ['Polarity'].tolist()\n",
    "mylist2 = df['Polarity_Result'].tolist()"
   ]
  },
  {
   "cell_type": "code",
   "execution_count": 5,
   "metadata": {
    "scrolled": true
   },
   "outputs": [
    {
     "name": "stdout",
     "output_type": "stream",
     "text": [
      "                precision    recall  f1-score   support\n",
      "\n",
      "Negative Class       0.75      0.73      0.74       101\n",
      " Neutral Class       0.00      0.00      0.00         0\n",
      "Positive Class       0.43      0.22      0.29        41\n",
      "\n",
      "      accuracy                           0.58       142\n",
      "     macro avg       0.39      0.32      0.34       142\n",
      "  weighted avg       0.66      0.58      0.61       142\n",
      "\n"
     ]
    },
    {
     "name": "stderr",
     "output_type": "stream",
     "text": [
      "D:\\Anaconda3\\lib\\site-packages\\sklearn\\metrics\\classification.py:1439: UndefinedMetricWarning: Recall and F-score are ill-defined and being set to 0.0 in labels with no true samples.\n",
      "  'recall', 'true', average, warn_for)\n"
     ]
    }
   ],
   "source": [
    "y_true = mylist\n",
    "y_pred = mylist2\n",
    "target_names = ['Negative Class', 'Neutral Class', 'Positive Class']\n",
    "print(classification_report(y_true, y_pred, target_names=target_names))"
   ]
  },
  {
   "cell_type": "code",
   "execution_count": 6,
   "metadata": {},
   "outputs": [],
   "source": [
    "# returns Classification report for Bias Dataset; Stanford"
   ]
  },
  {
   "cell_type": "code",
   "execution_count": 7,
   "metadata": {},
   "outputs": [],
   "source": [
    "df = pd.read_excel('Bias_Dataset_Stanford.xlsx')\n",
    "mylist = df ['Polarity'].tolist()\n",
    "mylist2 = df['Polarity_Result'].tolist()"
   ]
  },
  {
   "cell_type": "code",
   "execution_count": 8,
   "metadata": {
    "scrolled": true
   },
   "outputs": [
    {
     "name": "stdout",
     "output_type": "stream",
     "text": [
      "                precision    recall  f1-score   support\n",
      "\n",
      "Negative Class       0.56      0.61      0.58        23\n",
      " Neutral Class       0.00      0.00      0.00         0\n",
      "Positive Class       0.93      0.59      0.72        44\n",
      "\n",
      "      accuracy                           0.60        67\n",
      "     macro avg       0.50      0.40      0.44        67\n",
      "  weighted avg       0.80      0.60      0.67        67\n",
      "\n"
     ]
    }
   ],
   "source": [
    "y_true = mylist\n",
    "y_pred = mylist2\n",
    "target_names = ['Negative Class', 'Neutral Class', 'Positive Class']\n",
    "print(classification_report(y_true, y_pred, target_names=target_names))"
   ]
  }
 ],
 "metadata": {
  "kernelspec": {
   "display_name": "Python 3",
   "language": "python",
   "name": "python3"
  },
  "language_info": {
   "codemirror_mode": {
    "name": "ipython",
    "version": 3
   },
   "file_extension": ".py",
   "mimetype": "text/x-python",
   "name": "python",
   "nbconvert_exporter": "python",
   "pygments_lexer": "ipython3",
   "version": "3.7.4"
  }
 },
 "nbformat": 4,
 "nbformat_minor": 2
}
