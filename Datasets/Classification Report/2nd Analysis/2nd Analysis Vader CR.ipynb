{
 "cells": [
  {
   "cell_type": "code",
   "execution_count": 3,
   "metadata": {},
   "outputs": [],
   "source": [
    "# returns Classification report for Negation Dataset; Vader\n",
    "from sklearn.metrics import classification_report\n",
    "import pandas as pd"
   ]
  },
  {
   "cell_type": "code",
   "execution_count": 4,
   "metadata": {},
   "outputs": [],
   "source": [
    "df = pd.read_excel('Negation_Dataset_Vader.xlsx')\n",
    "mylist = df ['Polarity'].tolist()\n",
    "mylist2 = df['Polarity_Result'].tolist()"
   ]
  },
  {
   "cell_type": "code",
   "execution_count": 5,
   "metadata": {
    "scrolled": true
   },
   "outputs": [
    {
     "name": "stdout",
     "output_type": "stream",
     "text": [
      "                precision    recall  f1-score   support\n",
      "\n",
      "Negative Class       0.87      0.52      0.65       101\n",
      " Neutral Class       0.00      0.00      0.00         0\n",
      "Positive Class       0.65      0.59      0.62        41\n",
      "\n",
      "      accuracy                           0.54       142\n",
      "     macro avg       0.51      0.37      0.42       142\n",
      "  weighted avg       0.81      0.54      0.64       142\n",
      "\n"
     ]
    },
    {
     "name": "stderr",
     "output_type": "stream",
     "text": [
      "D:\\Anaconda3\\lib\\site-packages\\sklearn\\metrics\\classification.py:1439: UndefinedMetricWarning: Recall and F-score are ill-defined and being set to 0.0 in labels with no true samples.\n",
      "  'recall', 'true', average, warn_for)\n"
     ]
    }
   ],
   "source": [
    "y_true = mylist\n",
    "y_pred = mylist2\n",
    "target_names = ['Negative Class', 'Neutral Class', 'Positive Class']\n",
    "print(classification_report(y_true, y_pred, target_names=target_names))"
   ]
  },
  {
   "cell_type": "code",
   "execution_count": 6,
   "metadata": {},
   "outputs": [],
   "source": [
    "# returns Classification report for Bias Dataset; Vader"
   ]
  },
  {
   "cell_type": "code",
   "execution_count": 7,
   "metadata": {},
   "outputs": [],
   "source": [
    "df = pd.read_excel('Bias_Dataset_Vader.xlsx')\n",
    "mylist = df['Polarity'].tolist()\n",
    "mylist2 = df['Polarity_Result'].tolist()"
   ]
  },
  {
   "cell_type": "code",
   "execution_count": 8,
   "metadata": {
    "scrolled": true
   },
   "outputs": [
    {
     "name": "stdout",
     "output_type": "stream",
     "text": [
      "                precision    recall  f1-score   support\n",
      "\n",
      "Negative Class       1.00      0.30      0.47        23\n",
      " Neutral Class       0.00      0.00      0.00         0\n",
      "Positive Class       0.89      0.70      0.78        44\n",
      "\n",
      "      accuracy                           0.57        67\n",
      "     macro avg       0.63      0.34      0.42        67\n",
      "  weighted avg       0.92      0.57      0.68        67\n",
      "\n"
     ]
    }
   ],
   "source": [
    "y_true = mylist\n",
    "y_pred = mylist2\n",
    "target_names = ['Negative Class', 'Neutral Class', 'Positive Class']\n",
    "print(classification_report(y_true, y_pred, target_names=target_names))"
   ]
  }
 ],
 "metadata": {
  "kernelspec": {
   "display_name": "Python 3",
   "language": "python",
   "name": "python3"
  },
  "language_info": {
   "codemirror_mode": {
    "name": "ipython",
    "version": 3
   },
   "file_extension": ".py",
   "mimetype": "text/x-python",
   "name": "python",
   "nbconvert_exporter": "python",
   "pygments_lexer": "ipython3",
   "version": "3.7.4"
  }
 },
 "nbformat": 4,
 "nbformat_minor": 2
}
